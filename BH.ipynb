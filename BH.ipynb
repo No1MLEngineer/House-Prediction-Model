{
 "cells": [
  {
   "cell_type": "code",
   "execution_count": 1,
   "id": "935a0bfc",
   "metadata": {},
   "outputs": [
    {
     "name": "stdout",
     "output_type": "stream",
     "text": [
      "Requirement already satisfied: pandas in /home/no1mlengineer/.local/lib/python3.8/site-packages (2.0.3)\n",
      "Requirement already satisfied: numpy in /home/no1mlengineer/.local/lib/python3.8/site-packages (1.24.4)\n",
      "Requirement already satisfied: scikit-learn in /home/no1mlengineer/.local/lib/python3.8/site-packages (1.3.2)\n",
      "Requirement already satisfied: gradio in /home/no1mlengineer/.local/lib/python3.8/site-packages (4.44.1)\n",
      "Requirement already satisfied: pytz>=2020.1 in /home/no1mlengineer/.local/lib/python3.8/site-packages (from pandas) (2025.2)\n",
      "Requirement already satisfied: python-dateutil>=2.8.2 in /home/no1mlengineer/.local/lib/python3.8/site-packages (from pandas) (2.9.0.post0)\n",
      "Requirement already satisfied: tzdata>=2022.1 in /home/no1mlengineer/.local/lib/python3.8/site-packages (from pandas) (2025.2)\n",
      "Requirement already satisfied: threadpoolctl>=2.0.0 in /home/no1mlengineer/.local/lib/python3.8/site-packages (from scikit-learn) (3.5.0)\n",
      "Requirement already satisfied: joblib>=1.1.1 in /home/no1mlengineer/.local/lib/python3.8/site-packages (from scikit-learn) (1.4.2)\n",
      "Requirement already satisfied: scipy>=1.5.0 in /home/no1mlengineer/.local/lib/python3.8/site-packages (from scikit-learn) (1.10.1)\n",
      "Requirement already satisfied: aiofiles<24.0,>=22.0 in /home/no1mlengineer/.local/lib/python3.8/site-packages (from gradio) (23.2.1)\n",
      "Requirement already satisfied: matplotlib~=3.0 in /home/no1mlengineer/.local/lib/python3.8/site-packages (from gradio) (3.7.5)\n",
      "Requirement already satisfied: orjson~=3.0 in /home/no1mlengineer/.local/lib/python3.8/site-packages (from gradio) (3.10.15)\n",
      "Requirement already satisfied: typing-extensions~=4.0 in /home/no1mlengineer/.local/lib/python3.8/site-packages (from gradio) (4.13.2)\n",
      "Requirement already satisfied: anyio<5.0,>=3.0 in /home/no1mlengineer/.local/lib/python3.8/site-packages (from gradio) (3.7.1)\n",
      "Requirement already satisfied: importlib-resources<7.0,>=1.3 in /home/no1mlengineer/.local/lib/python3.8/site-packages (from gradio) (6.4.5)\n",
      "Requirement already satisfied: huggingface-hub>=0.19.3 in /home/no1mlengineer/.local/lib/python3.8/site-packages (from gradio) (0.32.0)\n",
      "Requirement already satisfied: pillow<11.0,>=8.0 in /home/no1mlengineer/.local/lib/python3.8/site-packages (from gradio) (10.4.0)\n",
      "Requirement already satisfied: packaging in /home/no1mlengineer/.local/lib/python3.8/site-packages (from gradio) (24.2)\n",
      "Requirement already satisfied: ruff>=0.2.2; sys_platform != \"emscripten\" in /home/no1mlengineer/.local/lib/python3.8/site-packages (from gradio) (0.11.11)\n",
      "Requirement already satisfied: ffmpy in /home/no1mlengineer/.local/lib/python3.8/site-packages (from gradio) (0.5.0)\n",
      "Requirement already satisfied: typer<1.0,>=0.12; sys_platform != \"emscripten\" in /home/no1mlengineer/.local/lib/python3.8/site-packages (from gradio) (0.15.4)\n",
      "Requirement already satisfied: fastapi<1.0 in /home/no1mlengineer/.local/lib/python3.8/site-packages (from gradio) (0.103.2)\n",
      "Requirement already satisfied: pydub in /home/no1mlengineer/.local/lib/python3.8/site-packages (from gradio) (0.25.1)\n",
      "Requirement already satisfied: markupsafe~=2.0 in /home/no1mlengineer/.local/lib/python3.8/site-packages (from gradio) (2.1.5)\n",
      "Requirement already satisfied: httpx>=0.24.1 in /home/no1mlengineer/.local/lib/python3.8/site-packages (from gradio) (0.28.1)\n",
      "Requirement already satisfied: python-multipart>=0.0.9 in /home/no1mlengineer/.local/lib/python3.8/site-packages (from gradio) (0.0.20)\n",
      "Requirement already satisfied: pyyaml<7.0,>=5.0 in /usr/lib/python3/dist-packages (from gradio) (5.3.1)\n",
      "Requirement already satisfied: tomlkit==0.12.0 in /home/no1mlengineer/.local/lib/python3.8/site-packages (from gradio) (0.12.0)\n",
      "Requirement already satisfied: jinja2<4.0 in /home/no1mlengineer/.local/lib/python3.8/site-packages (from gradio) (3.1.6)\n",
      "Requirement already satisfied: semantic-version~=2.0 in /home/no1mlengineer/.local/lib/python3.8/site-packages (from gradio) (2.10.0)\n",
      "Requirement already satisfied: gradio-client==1.3.0 in /home/no1mlengineer/.local/lib/python3.8/site-packages (from gradio) (1.3.0)\n",
      "Requirement already satisfied: pydantic>=2.0 in /home/no1mlengineer/.local/lib/python3.8/site-packages (from gradio) (2.10.6)\n",
      "Requirement already satisfied: urllib3~=2.0 in /home/no1mlengineer/.local/lib/python3.8/site-packages (from gradio) (2.2.3)\n",
      "Requirement already satisfied: uvicorn>=0.14.0; sys_platform != \"emscripten\" in /home/no1mlengineer/.local/lib/python3.8/site-packages (from gradio) (0.23.2)\n",
      "Requirement already satisfied: six>=1.5 in /usr/lib/python3/dist-packages (from python-dateutil>=2.8.2->pandas) (1.14.0)\n",
      "Requirement already satisfied: cycler>=0.10 in /home/no1mlengineer/.local/lib/python3.8/site-packages (from matplotlib~=3.0->gradio) (0.12.1)\n",
      "Requirement already satisfied: kiwisolver>=1.0.1 in /home/no1mlengineer/.local/lib/python3.8/site-packages (from matplotlib~=3.0->gradio) (1.4.7)\n",
      "Requirement already satisfied: contourpy>=1.0.1 in /home/no1mlengineer/.local/lib/python3.8/site-packages (from matplotlib~=3.0->gradio) (1.1.1)\n",
      "Requirement already satisfied: pyparsing>=2.3.1 in /home/no1mlengineer/.local/lib/python3.8/site-packages (from matplotlib~=3.0->gradio) (3.1.4)\n",
      "Requirement already satisfied: fonttools>=4.22.0 in /home/no1mlengineer/.local/lib/python3.8/site-packages (from matplotlib~=3.0->gradio) (4.57.0)\n",
      "Requirement already satisfied: exceptiongroup; python_version < \"3.11\" in /home/no1mlengineer/.local/lib/python3.8/site-packages (from anyio<5.0,>=3.0->gradio) (1.3.0)\n",
      "Requirement already satisfied: idna>=2.8 in /usr/lib/python3/dist-packages (from anyio<5.0,>=3.0->gradio) (2.8)\n",
      "Requirement already satisfied: sniffio>=1.1 in /home/no1mlengineer/.local/lib/python3.8/site-packages (from anyio<5.0,>=3.0->gradio) (1.3.1)\n",
      "Requirement already satisfied: zipp>=3.1.0; python_version < \"3.10\" in /home/no1mlengineer/.local/lib/python3.8/site-packages (from importlib-resources<7.0,>=1.3->gradio) (3.20.2)\n",
      "Requirement already satisfied: filelock in /home/no1mlengineer/.local/lib/python3.8/site-packages (from huggingface-hub>=0.19.3->gradio) (3.16.1)\n",
      "Requirement already satisfied: requests in /home/no1mlengineer/.local/lib/python3.8/site-packages (from huggingface-hub>=0.19.3->gradio) (2.32.3)\n",
      "Requirement already satisfied: fsspec>=2023.5.0 in /home/no1mlengineer/.local/lib/python3.8/site-packages (from huggingface-hub>=0.19.3->gradio) (2025.3.0)\n",
      "Requirement already satisfied: tqdm>=4.42.1 in /home/no1mlengineer/.local/lib/python3.8/site-packages (from huggingface-hub>=0.19.3->gradio) (4.67.1)\n",
      "Requirement already satisfied: hf-xet<2.0.0,>=1.1.2; platform_machine == \"x86_64\" or platform_machine == \"amd64\" or platform_machine == \"arm64\" or platform_machine == \"aarch64\" in /home/no1mlengineer/.local/lib/python3.8/site-packages (from huggingface-hub>=0.19.3->gradio) (1.1.2)\n",
      "Requirement already satisfied: shellingham>=1.3.0 in /home/no1mlengineer/.local/lib/python3.8/site-packages (from typer<1.0,>=0.12; sys_platform != \"emscripten\"->gradio) (1.5.4)\n",
      "Requirement already satisfied: rich>=10.11.0 in /home/no1mlengineer/.local/lib/python3.8/site-packages (from typer<1.0,>=0.12; sys_platform != \"emscripten\"->gradio) (13.9.4)\n",
      "Requirement already satisfied: click<8.2,>=8.0.0 in /home/no1mlengineer/.local/lib/python3.8/site-packages (from typer<1.0,>=0.12; sys_platform != \"emscripten\"->gradio) (8.1.8)\n",
      "Requirement already satisfied: starlette<0.28.0,>=0.27.0 in /home/no1mlengineer/.local/lib/python3.8/site-packages (from fastapi<1.0->gradio) (0.27.0)\n",
      "Requirement already satisfied: httpcore==1.* in /home/no1mlengineer/.local/lib/python3.8/site-packages (from httpx>=0.24.1->gradio) (1.0.9)\n",
      "Requirement already satisfied: certifi in /usr/lib/python3/dist-packages (from httpx>=0.24.1->gradio) (2019.11.28)\n",
      "Requirement already satisfied: websockets<13.0,>=10.0 in /home/no1mlengineer/.local/lib/python3.8/site-packages (from gradio-client==1.3.0->gradio) (12.0)\n",
      "Requirement already satisfied: annotated-types>=0.6.0 in /home/no1mlengineer/.local/lib/python3.8/site-packages (from pydantic>=2.0->gradio) (0.7.0)\n",
      "Requirement already satisfied: pydantic-core==2.27.2 in /home/no1mlengineer/.local/lib/python3.8/site-packages (from pydantic>=2.0->gradio) (2.27.2)\n",
      "Requirement already satisfied: h11>=0.8 in /home/no1mlengineer/.local/lib/python3.8/site-packages (from uvicorn>=0.14.0; sys_platform != \"emscripten\"->gradio) (0.16.0)\n",
      "Requirement already satisfied: charset-normalizer<4,>=2 in /home/no1mlengineer/.local/lib/python3.8/site-packages (from requests->huggingface-hub>=0.19.3->gradio) (3.4.2)\n",
      "Requirement already satisfied: pygments<3.0.0,>=2.13.0 in /home/no1mlengineer/.local/lib/python3.8/site-packages (from rich>=10.11.0->typer<1.0,>=0.12; sys_platform != \"emscripten\"->gradio) (2.19.1)\n",
      "Requirement already satisfied: markdown-it-py>=2.2.0 in /home/no1mlengineer/.local/lib/python3.8/site-packages (from rich>=10.11.0->typer<1.0,>=0.12; sys_platform != \"emscripten\"->gradio) (3.0.0)\n",
      "Requirement already satisfied: mdurl~=0.1 in /home/no1mlengineer/.local/lib/python3.8/site-packages (from markdown-it-py>=2.2.0->rich>=10.11.0->typer<1.0,>=0.12; sys_platform != \"emscripten\"->gradio) (0.1.2)\n",
      "Note: you may need to restart the kernel to use updated packages.\n"
     ]
    }
   ],
   "source": [
    "pip install pandas numpy scikit-learn gradio"
   ]
  },
  {
   "cell_type": "code",
   "execution_count": 2,
   "id": "1562f282",
   "metadata": {},
   "outputs": [],
   "source": [
    "import pandas as pd\n",
    "import numpy as np\n",
    "from sklearn.model_selection import train_test_split\n",
    "from sklearn.ensemble import RandomForestRegressor\n",
    "from sklearn.metrics import mean_squared_error, r2_score\n",
    "import gradio as gr\n",
    "import joblib  # To save/load the model"
   ]
  },
  {
   "cell_type": "code",
   "execution_count": 3,
   "id": "e7cb30f2",
   "metadata": {},
   "outputs": [
    {
     "data": {
      "text/html": [
       "<div>\n",
       "<style scoped>\n",
       "    .dataframe tbody tr th:only-of-type {\n",
       "        vertical-align: middle;\n",
       "    }\n",
       "\n",
       "    .dataframe tbody tr th {\n",
       "        vertical-align: top;\n",
       "    }\n",
       "\n",
       "    .dataframe thead th {\n",
       "        text-align: right;\n",
       "    }\n",
       "</style>\n",
       "<table border=\"1\" class=\"dataframe\">\n",
       "  <thead>\n",
       "    <tr style=\"text-align: right;\">\n",
       "      <th></th>\n",
       "      <th>CRIM</th>\n",
       "      <th>ZN</th>\n",
       "      <th>INDUS</th>\n",
       "      <th>CHAS</th>\n",
       "      <th>NOX</th>\n",
       "      <th>RM</th>\n",
       "      <th>AGE</th>\n",
       "      <th>DIS</th>\n",
       "      <th>RAD</th>\n",
       "      <th>TAX</th>\n",
       "      <th>PTRATIO</th>\n",
       "      <th>B</th>\n",
       "      <th>LSTAT</th>\n",
       "      <th>MEDV</th>\n",
       "    </tr>\n",
       "  </thead>\n",
       "  <tbody>\n",
       "    <tr>\n",
       "      <th>0</th>\n",
       "      <td>3.549515</td>\n",
       "      <td>29.938126</td>\n",
       "      <td>12.590744</td>\n",
       "      <td>0.396513</td>\n",
       "      <td>0.558812</td>\n",
       "      <td>6.586458</td>\n",
       "      <td>80.491880</td>\n",
       "      <td>4.320924</td>\n",
       "      <td>4.445610</td>\n",
       "      <td>218.557821</td>\n",
       "      <td>21.528293</td>\n",
       "      <td>442.595910</td>\n",
       "      <td>24.798367</td>\n",
       "      <td>28.913424</td>\n",
       "    </tr>\n",
       "    <tr>\n",
       "      <th>1</th>\n",
       "      <td>5.441985</td>\n",
       "      <td>42.614069</td>\n",
       "      <td>12.535750</td>\n",
       "      <td>-0.004779</td>\n",
       "      <td>0.594116</td>\n",
       "      <td>6.087943</td>\n",
       "      <td>70.194976</td>\n",
       "      <td>3.561000</td>\n",
       "      <td>-1.965526</td>\n",
       "      <td>447.076459</td>\n",
       "      <td>16.382004</td>\n",
       "      <td>503.455743</td>\n",
       "      <td>-1.799466</td>\n",
       "      <td>25.932492</td>\n",
       "    </tr>\n",
       "    <tr>\n",
       "      <th>2</th>\n",
       "      <td>-10.498516</td>\n",
       "      <td>-29.318930</td>\n",
       "      <td>15.587030</td>\n",
       "      <td>0.160316</td>\n",
       "      <td>0.637599</td>\n",
       "      <td>6.768397</td>\n",
       "      <td>79.306415</td>\n",
       "      <td>5.836720</td>\n",
       "      <td>4.744165</td>\n",
       "      <td>575.564772</td>\n",
       "      <td>18.121934</td>\n",
       "      <td>424.743641</td>\n",
       "      <td>19.170880</td>\n",
       "      <td>22.287094</td>\n",
       "    </tr>\n",
       "    <tr>\n",
       "      <th>3</th>\n",
       "      <td>1.720657</td>\n",
       "      <td>45.431692</td>\n",
       "      <td>0.515222</td>\n",
       "      <td>-0.144123</td>\n",
       "      <td>0.374087</td>\n",
       "      <td>6.636319</td>\n",
       "      <td>94.022731</td>\n",
       "      <td>9.947960</td>\n",
       "      <td>-3.769123</td>\n",
       "      <td>222.528403</td>\n",
       "      <td>16.639203</td>\n",
       "      <td>600.033795</td>\n",
       "      <td>28.765968</td>\n",
       "      <td>27.156407</td>\n",
       "    </tr>\n",
       "    <tr>\n",
       "      <th>4</th>\n",
       "      <td>8.851260</td>\n",
       "      <td>-13.227717</td>\n",
       "      <td>9.967231</td>\n",
       "      <td>-0.083252</td>\n",
       "      <td>0.517486</td>\n",
       "      <td>5.497123</td>\n",
       "      <td>56.144411</td>\n",
       "      <td>1.805062</td>\n",
       "      <td>8.171276</td>\n",
       "      <td>782.086569</td>\n",
       "      <td>21.567819</td>\n",
       "      <td>511.838093</td>\n",
       "      <td>-2.518750</td>\n",
       "      <td>39.392327</td>\n",
       "    </tr>\n",
       "  </tbody>\n",
       "</table>\n",
       "</div>"
      ],
      "text/plain": [
       "        CRIM         ZN      INDUS      CHAS       NOX        RM        AGE  \\\n",
       "0   3.549515  29.938126  12.590744  0.396513  0.558812  6.586458  80.491880   \n",
       "1   5.441985  42.614069  12.535750 -0.004779  0.594116  6.087943  70.194976   \n",
       "2 -10.498516 -29.318930  15.587030  0.160316  0.637599  6.768397  79.306415   \n",
       "3   1.720657  45.431692   0.515222 -0.144123  0.374087  6.636319  94.022731   \n",
       "4   8.851260 -13.227717   9.967231 -0.083252  0.517486  5.497123  56.144411   \n",
       "\n",
       "        DIS       RAD         TAX    PTRATIO           B      LSTAT       MEDV  \n",
       "0  4.320924  4.445610  218.557821  21.528293  442.595910  24.798367  28.913424  \n",
       "1  3.561000 -1.965526  447.076459  16.382004  503.455743  -1.799466  25.932492  \n",
       "2  5.836720  4.744165  575.564772  18.121934  424.743641  19.170880  22.287094  \n",
       "3  9.947960 -3.769123  222.528403  16.639203  600.033795  28.765968  27.156407  \n",
       "4  1.805062  8.171276  782.086569  21.567819  511.838093  -2.518750  39.392327  "
      ]
     },
     "execution_count": 3,
     "metadata": {},
     "output_type": "execute_result"
    }
   ],
   "source": [
    "\n",
    "df = pd.read_csv('Boston_Housing.csv')\n",
    "\n",
    "df.head()"
   ]
  },
  {
   "cell_type": "code",
   "execution_count": 4,
   "id": "9766a3a8",
   "metadata": {},
   "outputs": [],
   "source": [
    "# Load dataset (example: Boston Housing or Kaggle House Prices)\n",
    "df = pd.read_csv('Boston_Housing.csv')\n",
    "\n",
    "# Select features & target\n",
    "X = df[['RM', 'LSTAT', 'PTRATIO']]  # Example features (rooms, poverty %, pupil-teacher ratio)\n",
    "y = df['MEDV']  # Target (median house price)\n",
    "\n",
    "# Split data\n",
    "X_train, X_test, y_train, y_test = train_test_split(X, y, test_size=0.2, random_state=42)"
   ]
  },
  {
   "cell_type": "code",
   "execution_count": 5,
   "id": "011ebf35",
   "metadata": {},
   "outputs": [
    {
     "name": "stdout",
     "output_type": "stream",
     "text": [
      "RMSE: 11.14\n",
      "R² Score: -0.11\n"
     ]
    },
    {
     "data": {
      "text/plain": [
       "['house_price_model.pkl']"
      ]
     },
     "execution_count": 5,
     "metadata": {},
     "output_type": "execute_result"
    }
   ],
   "source": [
    "# Train model\n",
    "model = RandomForestRegressor(n_estimators=100, random_state=42)\n",
    "model.fit(X_train, y_train)\n",
    "\n",
    "# Evaluate\n",
    "y_pred = model.predict(X_test)\n",
    "rmse = np.sqrt(mean_squared_error(y_test, y_pred))\n",
    "r2 = r2_score(y_test, y_pred)\n",
    "\n",
    "print(f\"RMSE: {rmse:.2f}\")\n",
    "print(f\"R² Score: {r2:.2f}\")\n",
    "\n",
    "# Save model\n",
    "joblib.dump(model, \"house_price_model.pkl\")"
   ]
  },
  {
   "cell_type": "code",
   "execution_count": 6,
   "id": "8e948134",
   "metadata": {},
   "outputs": [
    {
     "name": "stdout",
     "output_type": "stream",
     "text": [
      "Running on local URL:  http://127.0.0.1:7860\n",
      "\n",
      "To create a public link, set `share=True` in `launch()`.\n"
     ]
    },
    {
     "data": {
      "text/html": [
       "<div><iframe src=\"http://127.0.0.1:7860/\" width=\"100%\" height=\"500\" allow=\"autoplay; camera; microphone; clipboard-read; clipboard-write;\" frameborder=\"0\" allowfullscreen></iframe></div>"
      ],
      "text/plain": [
       "<IPython.core.display.HTML object>"
      ]
     },
     "metadata": {},
     "output_type": "display_data"
    },
    {
     "data": {
      "text/plain": []
     },
     "execution_count": 6,
     "metadata": {},
     "output_type": "execute_result"
    }
   ],
   "source": [
    "# Load saved model\n",
    "model = joblib.load(\"house_price_model.pkl\")\n",
    "\n",
    "# Define prediction function\n",
    "def predict_price(avg_rooms, poverty_rate, pupil_teacher_ratio):\n",
    "    input_data = np.array([[avg_rooms, poverty_rate, pupil_teacher_ratio]])\n",
    "    predicted_price = model.predict(input_data)[0]\n",
    "    return f\"Predicted Price: ${predicted_price:,.2f}\"\n",
    "\n",
    "# Gradio Interface\n",
    "inputs = [\n",
    "    gr.Number(label=\"Avg. Rooms per Dwelling\"),\n",
    "    gr.Number(label=\"Poverty Rate (%)\"),\n",
    "    gr.Number(label=\"Pupil-Teacher Ratio\")\n",
    "]\n",
    "\n",
    "outputs = gr.Label(label=\"Predicted House Price\")\n",
    "\n",
    "app = gr.Interface(\n",
    "    fn=predict_price,\n",
    "    inputs=inputs,\n",
    "    outputs=outputs,\n",
    "    title=\"🏠 House Price Prediction\",\n",
    "    description=\"Predict Boston house prices using ML (Random Forest)\"\n",
    ")\n",
    "\n",
    "# Launch locally\n",
    "app.launch()"
   ]
  }
 ],
 "metadata": {
  "kernelspec": {
   "display_name": "Python 3",
   "language": "python",
   "name": "python3"
  },
  "language_info": {
   "codemirror_mode": {
    "name": "ipython",
    "version": 3
   },
   "file_extension": ".py",
   "mimetype": "text/x-python",
   "name": "python",
   "nbconvert_exporter": "python",
   "pygments_lexer": "ipython3",
   "version": "3.8.10"
  }
 },
 "nbformat": 4,
 "nbformat_minor": 5
}
